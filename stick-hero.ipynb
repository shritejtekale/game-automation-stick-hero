{
 "cells": [
  {
   "cell_type": "code",
   "execution_count": null,
   "id": "5e12d890",
   "metadata": {},
   "outputs": [],
   "source": [
    "import os\n",
    "import numpy as np\n",
    "from matplotlib import pyplot as plt\n",
    "import cv2\n",
    "import pause"
   ]
  },
  {
   "cell_type": "code",
   "execution_count": null,
   "id": "f012d49a",
   "metadata": {},
   "outputs": [],
   "source": [
    "# Capture a screenshot of the device's screen and pull the captured screenshot from the device to the local machine\n",
    "os.system('adb shell screencap -p /sdcard/screencap.png')\n",
    "os.system('adb pull /sdcard/screencap.png')"
   ]
  },
  {
   "cell_type": "code",
   "execution_count": null,
   "id": "777b46b6",
   "metadata": {},
   "outputs": [],
   "source": [
    "# Read the image using OpenCV\n",
    "img = cv2.imread('screencap.png')\n",
    "screen_height, screen_width, _ = img.shape\n",
    "\n",
    "# Set the size of the displayed plot using Matplotlib\n",
    "plt.rcParams[\"figure.figsize\"] = [15,8]\n",
    "plt.imshow(img)\n",
    "\n",
    "# Convert the color space of the image from BGR (OpenCV's default) to RGB for proper display with Matplotlib\n",
    "img = cv2.cvtColor(img,cv2.COLOR_BGR2RGB)"
   ]
  },
  {
   "cell_type": "code",
   "execution_count": null,
   "id": "4438f545",
   "metadata": {},
   "outputs": [],
   "source": [
    "# Get the dimensions of the image and normalise the height and width\n",
    "yf, xf, zf = np.shape(img)\n",
    "yf = yf/2280\n",
    "xf = xf/1080"
   ]
  },
  {
   "cell_type": "code",
   "execution_count": null,
   "id": "d9e39186",
   "metadata": {},
   "outputs": [],
   "source": [
    "# Crop the image based on specified y-axis (vertical) coordinates and retain all columns\n",
    "img_crop = img[int(np.floor(1550*yf)):int(np.floor(1650*yf)), :]\n",
    "plt.imshow(img_crop)\n",
    "y_crop, x_crop, z_crop = np.shape(img_crop)"
   ]
  },
  {
   "cell_type": "code",
   "execution_count": null,
   "id": "bca32332",
   "metadata": {},
   "outputs": [],
   "source": [
    "# Set all the RGB values to ZERO giving black color   \"\"\" \n",
    "my_img = np.zeros_like(img_crop)\n",
    "plt.imshow(my_img)"
   ]
  },
  {
   "cell_type": "code",
   "execution_count": null,
   "id": "ce2ca001",
   "metadata": {},
   "outputs": [],
   "source": [
    "rcord=set()\n",
    "\n",
    "# Iterate over each pixel in the cropped image\n",
    "for j in range(y_crop):\n",
    "    for k in range(x_crop):\n",
    "        # Check if the pixel color matches either red (255, 0, 0) or a similar shade\n",
    "        if(((img_crop[j,k,0]==255) and (img_crop[j,k,1]==0) and (img_crop[j,k,2]==0)) or ((img_crop[j,k,0]==247) and (img_crop[j,k,1]==27) and (img_crop[j,k,2]==27))):\n",
    "            # Set the corresponding pixel in the new image to green (0, 255, 0)\n",
    "            my_img[j,k,0] = 0\n",
    "            my_img[j,k,1] = 255\n",
    "            my_img[j,k,2] = 0\n",
    "            rcord.add(k)  "
   ]
  },
  {
   "cell_type": "code",
   "execution_count": null,
   "id": "bb3ff2d4",
   "metadata": {},
   "outputs": [],
   "source": [
    "plt.imshow(my_img)"
   ]
  },
  {
   "cell_type": "code",
   "execution_count": null,
   "id": "88938bd5",
   "metadata": {},
   "outputs": [],
   "source": [
    "# Sort the recorded x-coordinates in ascending order\n",
    "rcord = sorted(rcord)\n",
    "print(rcord)"
   ]
  },
  {
   "cell_type": "code",
   "execution_count": null,
   "id": "d020ffee",
   "metadata": {},
   "outputs": [],
   "source": [
    "def srcTarget(rcord):\n",
    "    prev=rcord[0]\n",
    "    for i in rcord:\n",
    "        # Check if the absolute difference between the current and previous x-coordinates is greater than 10\n",
    "        if abs(i-prev) > 10:\n",
    "            # Return the current and previous x-coordinates as source and target points respectively\n",
    "            # Add 5 to the previous x-coordinate to roughly compensate for the extra distance where the stick rises\n",
    "            return i, prev + 5    \n",
    "        prev=i"
   ]
  },
  {
   "cell_type": "code",
   "execution_count": null,
   "id": "5ba39a6c",
   "metadata": {},
   "outputs": [],
   "source": [
    "target, src = srcTarget(rcord)\n",
    "print(src,target)"
   ]
  },
  {
   "cell_type": "code",
   "execution_count": null,
   "id": "265fcd7d",
   "metadata": {},
   "outputs": [],
   "source": [
    "dist = abs(src-target)\n",
    "rate = 1.045* (screen_width/1080)\n",
    "print(rate)\n",
    "time = str(int(dist/rate))\n",
    "\n",
    "print(dist,time)"
   ]
  },
  {
   "cell_type": "code",
   "execution_count": null,
   "id": "56108c31",
   "metadata": {},
   "outputs": [],
   "source": [
    "# Fix some x and y coordinates to swipe on the screen, with time already calculated before\n",
    "x = str(int(np.ceil(530*yf)))\n",
    "y = str(int(np.ceil(830*xf)))\n",
    "\n",
    "os.system('adb shell input touchscreen swipe ' + x + ' ' + x + ' ' + y + ' ' + y + ' ' + time)\n",
    "pause.seconds(3)"
   ]
  },
  {
   "cell_type": "code",
   "execution_count": null,
   "id": "2e86884e",
   "metadata": {},
   "outputs": [],
   "source": [
    "rate = 0.51\n",
    "\n",
    "while True:\n",
    "\n",
    "    os.system('adb shell screencap -p /sdcard/screencap.png')\n",
    "    os.system('adb pull /sdcard/screencap.png')\n",
    "\n",
    "    img = cv2.imread('screencap.png')\n",
    "    screen_height, screen_width, _ = img.shape\n",
    "\n",
    "    img = cv2.cvtColor(img,cv2.COLOR_BGR2RGB)\n",
    "\n",
    "    yf, xf, zf = np.shape(img)\n",
    "    yf = yf/2280\n",
    "    xf = xf/1080\n",
    "    \n",
    "    img_crop = img[int(np.floor(1550*yf)):int(np.floor(1700*yf)), :]\n",
    "    plt.imshow(img_crop)\n",
    "    y_crop, x_crop, z_crop = np.shape(img_crop)\n",
    "\n",
    "    my_img = np.zeros_like(img_crop)\n",
    "\n",
    "    rcord=set()\n",
    "    \n",
    "    for j in range(y_crop):\n",
    "        for k in range(x_crop):\n",
    "            if(((img_crop[j,k,0]==255) and (img_crop[j,k,1]==0) and (img_crop[j,k,2]==0)) or ((img_crop[j,k,0]==247) and (img_crop[j,k,1]==27) and (img_crop[j,k,2]==27))):\n",
    "                my_img[j,k,0] = 0\n",
    "                my_img[j,k,1] = 255\n",
    "                my_img[j,k,2] = 0\n",
    "                rcord.add(k)  \n",
    "\n",
    "    rcord = sorted(rcord)\n",
    "    target, src = srcTarget(rcord)\n",
    "    print(src,target)\n",
    "    \n",
    "    dist = abs(src-target)\n",
    "    rate = 1.0475 * (screen_width/1080)\n",
    "    time = str(int(dist/rate))\n",
    "    \n",
    "    print(dist,time)\n",
    "\n",
    "    x = str(int(np.ceil(530*yf)))\n",
    "    y = str(int(np.ceil(830*xf)))\n",
    "\n",
    "    os.system('adb shell input touchscreen swipe ' + x + ' ' + x + ' ' + y + ' ' + y + ' ' + time)\n",
    "    pause.seconds(3)"
   ]
  },
  {
   "cell_type": "code",
   "execution_count": null,
   "id": "cc9c9ec4",
   "metadata": {},
   "outputs": [],
   "source": []
  }
 ],
 "metadata": {
  "kernelspec": {
   "display_name": "Python 3 (ipykernel)",
   "language": "python",
   "name": "python3"
  },
  "language_info": {
   "codemirror_mode": {
    "name": "ipython",
    "version": 3
   },
   "file_extension": ".py",
   "mimetype": "text/x-python",
   "name": "python",
   "nbconvert_exporter": "python",
   "pygments_lexer": "ipython3",
   "version": "3.9.12"
  }
 },
 "nbformat": 4,
 "nbformat_minor": 5
}
